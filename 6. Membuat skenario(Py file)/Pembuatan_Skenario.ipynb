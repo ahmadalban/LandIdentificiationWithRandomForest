{
  "nbformat": 4,
  "nbformat_minor": 0,
  "metadata": {
    "kernelspec": {
      "name": "python3",
      "display_name": "Python 3"
    },
    "colab": {
      "name": "Pembuatan Skenario(Dataset A).ipynb",
      "provenance": []
    }
  },
  "cells": [
    {
      "cell_type": "code",
      "metadata": {
        "id": "MU0sOhZ8P-pw"
      },
      "source": [
        "#import library\r\n",
        "import pandas as pd"
      ],
      "execution_count": 5,
      "outputs": []
    },
    {
      "cell_type": "code",
      "metadata": {
        "id": "PjLYnIg0P-p5"
      },
      "source": [
        "#read data\n",
        "dataset = pd.read_csv(\"DATASET-A.csv\", sep=';')\n",
        "dataset"
      ],
      "execution_count": null,
      "outputs": []
    },
    {
      "cell_type": "markdown",
      "metadata": {
        "id": "k45Yy9wAR6Sw"
      },
      "source": [
        "Skenario 1"
      ]
    },
    {
      "cell_type": "code",
      "metadata": {
        "id": "2UA3jc8kP-p5"
      },
      "source": [
        "#skenario 1 VH, VV\n",
        "skenario1 = dataset.iloc[:, 6:9]\n",
        "skenario1.columns = ['VH', 'VV', 'Class']\n",
        "skenario1.head()\n",
        "#download skenario 1\n",
        "skenario1.to_csv('C:\\\\Users\\\\aalba\\\\Downloads\\\\Skripsi\\\\DATASET\\\\skenario-1.csv')"
      ],
      "execution_count": 11,
      "outputs": []
    },
    {
      "cell_type": "markdown",
      "metadata": {
        "id": "8oOCwKVuRqd9"
      },
      "source": [
        "Skenario 2"
      ]
    },
    {
      "cell_type": "code",
      "metadata": {
        "id": "bWZ6mHZFP-p6"
      },
      "source": [
        "#Skenario 2 VV, VH, (VV-VH)\n",
        "skenario2 = skenario_1.copy()\n",
        "skenario2['VV-VH']= skenario_2['VV'] - skenario_2['VH']\n",
        "skenario2 = pd.concat([skenario_2.drop([\"Class\"], axis=1),dataset[\"Class\"]], axis=1)\n",
        "skenario2.head()\n",
        "#download skenario 2\n",
        "skenario2.to_csv('C:\\\\Users\\\\aalba\\\\Downloads\\\\Skripsi\\\\DATASET\\\\skenario-2.csv')"
      ],
      "execution_count": null,
      "outputs": []
    },
    {
      "cell_type": "markdown",
      "metadata": {
        "id": "vGu11j4aR9qC"
      },
      "source": [
        "Skenario 3"
      ]
    },
    {
      "cell_type": "code",
      "metadata": {
        "id": "Hb9aFz94P-p6"
      },
      "source": [
        "#Skenario 3 VV, VH, (VV-VH), (VV+VH)/2\n",
        "skenario3 = skenario_2.copy()\n",
        "skenario3['VV/VH']= skenario_3['VV'] / skenario_3['VH']\n",
        "skenario3['(VV+VH)/2']= (skenario_3['VV'] + skenario_3['VH'])/2\n",
        "skenario3 = pd.concat([skenario_3.drop([\"Class\"], axis=1),dataset[\"Class\"]], axis=1)\n",
        "skenario3.head()\n",
        "#download skenario 3\n",
        "skenario3.to_csv('C:\\\\Users\\\\aalba\\\\Downloads\\\\Skripsi\\\\DATASET\\\\skenario-3.csv')"
      ],
      "execution_count": null,
      "outputs": []
    }
  ]
}
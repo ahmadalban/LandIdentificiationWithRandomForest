{
 "cells": [
  {
   "cell_type": "code",
   "execution_count": null,
   "metadata": {},
   "outputs": [],
   "source": [
    "import pandas as pd"
   ]
  },
  {
   "cell_type": "code",
   "execution_count": null,
   "metadata": {},
   "outputs": [],
   "source": [
    "#Baca dataset dan print\n",
    "dataset = pd.read_csv('C:\\\\Users\\\\HP\\\\Desktop\\\\SKRIPSIII!\\\\Kodingan Dec Tree\\\\DataCoba2.csv', sep=';')\n",
    "dataset.head()"
   ]
  },
  {
   "cell_type": "code",
   "execution_count": null,
   "metadata": {},
   "outputs": [],
   "source": [
    "#Membuat Skenario pertama (2 variabel saja VV dan VH)\n",
    "skenario_1 = dataset.iloc[:, 6:9]\n",
    "skenario_1.columns = ['VH', 'VV', 'Class']\n",
    "skenario_1.head()\n",
    "skenario_1.to_csv('C:\\\\Users\\\\HP\\\\Desktop\\\\SKRIPSIII!\\\\DATASET\\\\skenario_1.csv')"
   ]
  },
  {
   "cell_type": "code",
   "execution_count": null,
   "metadata": {},
   "outputs": [],
   "source": [
    "#Membuat Skenario kedua (3 variabel VV, VH, (VV-VH))\n",
    "skenario_2 = skenario_1.copy()\n",
    "skenario_2['VV-VH']= skenario_2['VV'] - skenario_2['VH']\n",
    "skenario_2 = pd.concat([skenario_2.drop([\"Class\"], axis=1),dataset[\"Class\"]], axis=1)\n",
    "skenario_2.head()\n",
    "#skenario_2.to_csv('C:\\\\Users\\\\HP\\\\Desktop\\\\SKRIPSIII!\\\\DATASET\\\\skenario_2.csv')"
   ]
  },
  {
   "cell_type": "code",
   "execution_count": null,
   "metadata": {},
   "outputs": [],
   "source": [
    "#Membuat Skenario ketiga (5 variabel VV, VH, (VV-VH), (VV+VH)/2)\n",
    "skenario_3 = skenario_2.copy()\n",
    "skenario_3['VV/VH']= skenario_3['VV'] / skenario_3['VH']\n",
    "skenario_3['(VV+VH)/2']= (skenario_3['VV'] + skenario_3['VH'])/2\n",
    "skenario_3 = pd.concat([skenario_3.drop([\"Class\"], axis=1),dataset[\"Class\"]], axis=1)\n",
    "skenario_3.head()\n",
    "#skenario_3.to_csv('C:\\\\Users\\\\HP\\\\Desktop\\\\SKRIPSIII!\\\\DATASET\\\\skenario_3.csv')"
   ]
  }
 ],
 "metadata": {
  "kernelspec": {
   "display_name": "Python 2",
   "language": "python",
   "name": "python2"
  },
  "language_info": {
   "codemirror_mode": {
    "name": "ipython",
    "version": 2
   },
   "file_extension": ".py",
   "mimetype": "text/x-python",
   "name": "python",
   "nbconvert_exporter": "python",
   "pygments_lexer": "ipython2",
   "version": "2.7.16"
  }
 },
 "nbformat": 4,
 "nbformat_minor": 2
}

{
  "nbformat": 4,
  "nbformat_minor": 0,
  "metadata": {
    "colab": {
      "name": "klasifikasi citra Dataset RF B (Credit by Ahmad Al-Banjaran)",
      "provenance": [],
      "collapsed_sections": []
    },
    "kernelspec": {
      "display_name": "Python 3",
      "name": "python3"
    }
  },
  "cells": [
    {
      "cell_type": "code",
      "metadata": {
        "id": "su_8S9TnOxRt"
      },
      "source": [
        "#import library yang dibutuhkan\n",
        "import io\n",
        "import numpy as np\n",
        "import pandas as pd\n",
        "import seaborn as sns\n",
        "import matplotlib.pyplot as plt\n",
        "from sklearn.model_selection import train_test_split\n",
        "from sklearn.linear_model import LogisticRegression\n",
        "from sklearn.metrics import confusion_matrix, precision_recall_curve, auc, roc_auc_score, roc_curve, recall_score, classification_report\n",
        "import itertools\n",
        "import seaborn as sn\n",
        "from sklearn.tree import DecisionTreeClassifier\n",
        "from sklearn.ensemble import RandomForestClassifier\n",
        "from sklearn.model_selection import GridSearchCV\n",
        "from sklearn.model_selection import RandomizedSearchCV"
      ],
      "execution_count": null,
      "outputs": []
    },
    {
      "cell_type": "markdown",
      "metadata": {
        "id": "g1kzlAH6Nd-J"
      },
      "source": [
        "**SKENARIO 1**\n"
      ]
    },
    {
      "cell_type": "code",
      "metadata": {
        "id": "4t4VWrobOxRz"
      },
      "source": [
        "#read file skenario 1\n",
        "skenario_1 = pd.read_csv('skenario_1.csv')\n",
        "skenario_1.columns = ['id', 'VH', 'VV', 'Class']\n",
        "#skenario_1 = skenario_1.drop([\"Unnamed: 0\"], axis=1)\n",
        "skenario_1.head()"
      ],
      "execution_count": null,
      "outputs": []
    },
    {
      "cell_type": "code",
      "metadata": {
        "id": "Sk_09DWMm6Hm"
      },
      "source": [
        "#79% bawang putih = 0, non bawang putih =1\n",
        "\n",
        "def buat_kategori(value):\n",
        "    if value == \"Bawang Putih\" :\n",
        "        val = 0\n",
        "    else:\n",
        "        val = 1\n",
        "    return val\n",
        "\n",
        "for j in skenario_1.index:\n",
        "      skenario_1.at[j, 'Class1'] = buat_kategori(skenario_1.at[j, 'Class'])\n",
        "skenario_1 = skenario_1.drop([\"id\"], axis=1)\n",
        "skenario_1 = skenario_1.drop([\"Class\"], axis=1)"
      ],
      "execution_count": null,
      "outputs": []
    },
    {
      "cell_type": "code",
      "metadata": {
        "id": "UMeO_WC_OxR0"
      },
      "source": [
        "#factorized class menjadi 0 dan 1\n",
        "\n",
        "#skenario_1['Class'],_ = pd.factorize(skenario_1['Class'])\n",
        "#skenario_1 = skenario_1.drop([\"id\"], axis=1)"
      ],
      "execution_count": null,
      "outputs": []
    },
    {
      "cell_type": "code",
      "metadata": {
        "id": "1C8D_VkrmsDh"
      },
      "source": [
        "skenario_1"
      ],
      "execution_count": null,
      "outputs": []
    },
    {
      "cell_type": "code",
      "metadata": {
        "id": "IAEqPsQgOxR1"
      },
      "source": [
        "#pemodelan random forest\n",
        "#Memisahkan atribut class\n",
        "\n",
        "Class = skenario_1.Class1\n",
        "skenario_1.drop(['Class'], axis = 1, inplace = True)"
      ],
      "execution_count": null,
      "outputs": []
    },
    {
      "cell_type": "code",
      "metadata": {
        "id": "9IAj0d4sOxR1"
      },
      "source": [
        "# Membagi data menjadi Training set and Test set (90:10)\n",
        "\n",
        "from sklearn.model_selection import train_test_split\n",
        "X_train, X_test, Y_train, Y_test = train_test_split(skenario_1, Class, test_size = 0.1, stratify=Class, random_state = 123)"
      ],
      "execution_count": null,
      "outputs": []
    },
    {
      "cell_type": "code",
      "metadata": {
        "id": "cjGR56i0npxB"
      },
      "source": [
        "Y_test"
      ],
      "execution_count": null,
      "outputs": []
    },
    {
      "cell_type": "markdown",
      "metadata": {
        "id": "jdCos040Y7Y2"
      },
      "source": [
        "MENGECEK RANGE PARAMETER DENGAN VALIDATION CURVE"
      ]
    },
    {
      "cell_type": "code",
      "metadata": {
        "id": "qoKrVoLE_j0v"
      },
      "source": [
        "#menentukan range parameter dengan validation curve\n",
        "\n",
        "from sklearn.model_selection import validation_curve\n",
        "num_est= [500, 600, 700, 800, 900, 1000, 1100]\n",
        "\n",
        "train_scores, test_scores = validation_curve(\n",
        "                                RandomForestClassifier(),\n",
        "                                X = X_train, y = Y_train, \n",
        "                                param_name = 'n_estimators', \n",
        "                                param_range = num_est, cv = 10)\n",
        "param_range= [500, 600, 700, 800, 900, 1000, 1100]\n",
        "# Calculate mean and standard deviation for training set scores\n",
        "train_mean = np.mean(train_scores, axis=1)\n",
        "train_std = np.std(train_scores, axis=1)\n",
        "\n",
        "# Calculate mean and standard deviation for test set scores\n",
        "test_mean = np.mean(test_scores, axis=1)\n",
        "test_std = np.std(test_scores, axis=1)\n",
        "\n",
        "# Plot mean accuracy scores for training and test sets\n",
        "plt.plot(param_range, train_mean, label=\"Training score\", color=\"black\")\n",
        "plt.plot(param_range, test_mean, label=\"Cross-validation score\", color=\"dimgrey\")\n",
        "\n",
        "# Plot accurancy bands for training and test sets\n",
        "plt.fill_between(param_range, train_mean - train_std, train_mean + train_std, color=\"gray\")\n",
        "plt.fill_between(param_range, test_mean - test_std, test_mean + test_std, color=\"gainsboro\")\n",
        "\n",
        "# Create plot\n",
        "plt.title(\"Validation Curve With Random Forest\")\n",
        "plt.xlabel(\"n_estimators\")\n",
        "plt.ylabel(\"Accuracy Score\")\n",
        "plt.tight_layout()\n",
        "plt.legend(loc=\"best\")\n",
        "plt.show()"
      ],
      "execution_count": null,
      "outputs": []
    },
    {
      "cell_type": "code",
      "metadata": {
        "id": "4TAG9Hsafhz6"
      },
      "source": [
        "random_grid = {\"min_samples_split\": [3, 4],\n",
        "              \"min_samples_leaf\": [1, 2],\n",
        "              \"max_depth\": [3, 4, 5],\n",
        "              \"n_estimators\" : [600, 700],\n",
        "              \"max_features\":['sqrt']}"
      ],
      "execution_count": null,
      "outputs": []
    },
    {
      "cell_type": "markdown",
      "metadata": {
        "id": "sKDV17ylZDJK"
      },
      "source": [
        ""
      ]
    },
    {
      "cell_type": "code",
      "metadata": {
        "id": "cV8Fx1WBkV5r"
      },
      "source": [
        "#MENENTUKAN BEST PARAMETER dengan grid search\n",
        "\n",
        "import time\n",
        "start = time.time()\n",
        "\n",
        "classifier_bp = GridSearchCV(estimator=RandomForestClassifier(),\n",
        "                    param_grid=random_grid,\n",
        "                    cv=10,\n",
        "                    refit=True,\n",
        "                    error_score=0,\n",
        "                    n_jobs=-1)\n",
        "\n",
        "classifier_bp.fit(X_train, Y_train)\n",
        "#Mengambil parameter RF\n",
        "optimised_random = classifier_bp.best_estimator_\n",
        "#Memprediksi model menggunakan data test\n",
        "Y_pred = classifier_bp.predict(X_test)\n",
        "#accu = clf.score(X_test, Y_test)\n",
        "elapsed_time = (time.time() - start)\n",
        "elapsed_time\n",
        "print(\"Waktu Training random forest grid search:{} detik\".format(elapsed_time))"
      ],
      "execution_count": null,
      "outputs": []
    },
    {
      "cell_type": "code",
      "metadata": {
        "id": "d-T_mHTBOxR1",
        "colab": {
          "base_uri": "https://localhost:8080/"
        },
        "outputId": "5a2f442c-eba0-463e-9144-2d3ce614a33e"
      },
      "source": [
        "#MENENTUKAN BEST PARAMETER dengan random sarch\n",
        "#dikarenakan waktu pemrosesan grid search lama\n",
        "\n",
        "import time\n",
        "start = time.time()\n",
        "\n",
        "\n",
        "classifier_bp = RandomizedSearchCV(estimator=RandomForestClassifier(),\n",
        "                    param_distributions=random_grid,\n",
        "                    cv=10,\n",
        "                    refit=True,\n",
        "                    error_score=0,\n",
        "                    n_jobs=-1)\n",
        "\n",
        "classifier_bp.fit(X_train, Y_train)\n",
        "#Mengambil parameter RF\n",
        "optimised_random = classifier_bp.best_estimator_\n",
        "#Memprediksi model menggunakan data test\n",
        "Y_pred = classifier_bp.predict(X_test)\n",
        "#accu = clf.score(X_test, Y_test)\n",
        "elapsed_time = (time.time() - start)\n",
        "elapsed_time\n",
        "print(\"Waktu Training random forest random search:{} detik\".format(elapsed_time))"
      ],
      "execution_count": null,
      "outputs": [
        {
          "output_type": "stream",
          "text": [
            "Waktu Training random forest random search:227.77625584602356 detik\n"
          ],
          "name": "stdout"
        }
      ]
    },
    {
      "cell_type": "code",
      "metadata": {
        "colab": {
          "base_uri": "https://localhost:8080/"
        },
        "id": "QF9-PpXL60E6",
        "outputId": "8f93713f-6b30-49d9-8860-9cc40b92eda4"
      },
      "source": [
        "#classification_report\n",
        "Y_true = Y_test\n",
        "print(classification_report(Y_test, Y_pred))"
      ],
      "execution_count": null,
      "outputs": [
        {
          "output_type": "stream",
          "text": [
            "              precision    recall  f1-score   support\n",
            "\n",
            "         0.0       0.73      0.90      0.81       420\n",
            "         1.0       0.87      0.67      0.76       420\n",
            "\n",
            "    accuracy                           0.79       840\n",
            "   macro avg       0.80      0.79      0.79       840\n",
            "weighted avg       0.80      0.79      0.79       840\n",
            "\n"
          ],
          "name": "stdout"
        }
      ]
    },
    {
      "cell_type": "code",
      "metadata": {
        "id": "fW1cZOvF9ZhI"
      },
      "source": [
        "#confusion matrix keseluruhan skenario\n",
        "from sklearn.metrics import confusion_matrix\n",
        "cm = confusion_matrix(Y_true, Y_pred)\n",
        "print(confusion_matrix(Y_true, Y_pred))\n",
        "plt.matshow(cm)\n",
        "plt.title('Confusion matrix \\n Dataset A\\n')\n",
        "print()\n",
        "plt.colorbar()\n",
        "plt.ylabel('True label')\n",
        "plt.xlabel('Predicted label')\n",
        "plt.show()"
      ],
      "execution_count": null,
      "outputs": []
    },
    {
      "cell_type": "code",
      "metadata": {
        "id": "CoFNud7KOxR1"
      },
      "source": [
        "optimised_random"
      ],
      "execution_count": null,
      "outputs": []
    },
    {
      "cell_type": "code",
      "metadata": {
        "id": "s5ptU54OOxR2"
      },
      "source": [
        "#MENG_ASSIGN VARIABEL FITUR DAN KELAS\n",
        "\n",
        "#Mengisi variabel features dengan atribut2 data yang dipakai & variabel class_names dengan atribut kelas \n",
        "features = list(skenario_1[1:])\n",
        "#features\n",
        "class_names = [\"Bawang Putih\", \"Non Bawang Putih\"]\n",
        "#class_names\n",
        "#PENGGUNAAN K_FOLD DENGAN K=10 KEDALAM random forest\n",
        "\n",
        "#Import Library yang dibutuhkan\n",
        "import time\n",
        "from sklearn.model_selection import StratifiedKFold\n",
        "from sklearn.metrics import cohen_kappa_score\n",
        "from sklearn.metrics import precision_score,recall_score,f1_score,roc_auc_score\n",
        "from IPython.display import Image  \n",
        "from sklearn.externals.six import StringIO  \n",
        "import pydotplus\n",
        "import graphviz\n",
        "from graphviz import Source\n",
        "from sklearn import tree\n",
        "\n",
        "\n",
        "start = time.time()\n",
        "array_best_parameter = []\n",
        "metrics = []\n",
        "model = []\n",
        "train = []\n",
        "test = []\n",
        "pred = []\n",
        "#X isi VV VH\n",
        "x = skenario_1\n",
        "#Y isi 0/1 hasil class\n",
        "y = Class\n",
        "\n",
        "cv = StratifiedKFold(n_splits=10, random_state=123, shuffle=False)\n",
        "\n",
        "\n",
        "for idx,(train_index, test_index) in enumerate(cv.split(x, y)):\n",
        "    X_tr, X_te, y_tr, y_te = x.iloc[train_index,:], x.iloc[test_index,:], y.iloc[train_index], y.iloc[test_index]\n",
        "    model_dt = optimised_random\n",
        "    model_dt.fit(X_tr,y_tr)\n",
        "    y_pred = model_dt.predict(X_te)\n",
        "    #Mendapatkan kombinasi data train&test masing-masing fold\n",
        "    train.append([X_tr, y_tr])\n",
        "    test.append([X_te, y_te])\n",
        "    pred.append(y_pred)\n",
        "    #Mengevaluasi model DT perfold\n",
        "    y_pred=np.round(y_pred)\n",
        "    f1 =f1_score(y_te,y_pred,pos_label = 1)\n",
        "    #definite accu kappa prec with confusion matrix\n",
        "    accu = model_dt.score(X_te,y_te)\n",
        "    kappa = cohen_kappa_score(y_pred, y_te, weights='quadratic')\n",
        "    prec = (precision_score(y_te,y_pred,pos_label=0))\n",
        "    rec = (recall_score(y_te,y_pred,pos_label=0))\n",
        "    metrics.append([prec,rec,f1,roc_auc_score(y_te,y_pred), accu, kappa])\n",
        "    dot_data = StringIO()\n",
        "    \n",
        "    #tree.export_graphviz(model_dt, out_file=dot_data,  \n",
        "    #                     feature_names=features, class_names=class_names)\n",
        "    #model.append(dot_data)\n",
        "   \n",
        "\n",
        "metrics_df = pd.DataFrame(metrics,columns =[\"Precision\",\"Recall\",\"F1-Score\",\"ROC-AUC\",\"Accuracy\", \"kappa\"])\n",
        "elapsed_time = (time.time() - start)\n",
        "elapsed_time\n",
        "print(\"Waktu Training random forest:{} detik\".format(elapsed_time))"
      ],
      "execution_count": null,
      "outputs": []
    },
    {
      "cell_type": "code",
      "metadata": {
        "colab": {
          "base_uri": "https://localhost:8080/",
          "height": 373
        },
        "id": "dfY0WqDVOxR3",
        "scrolled": true,
        "outputId": "70f0ac6d-9a55-448b-a73a-1111475d6ee0"
      },
      "source": [
        "#EVALUASI 10 MODEL HASIL K-FOLD {AKURASI & KAPPA}\n",
        "\n",
        "\n",
        "p = metrics_df.mean()\n",
        "rataan = pd.DataFrame(p, columns = ['Rataan'])\n",
        "rataan = rataan.transpose()\n",
        "evaluasi = metrics_df.append(rataan)\n",
        "evaluasi"
      ],
      "execution_count": null,
      "outputs": [
        {
          "output_type": "execute_result",
          "data": {
            "text/html": [
              "<div>\n",
              "<style scoped>\n",
              "    .dataframe tbody tr th:only-of-type {\n",
              "        vertical-align: middle;\n",
              "    }\n",
              "\n",
              "    .dataframe tbody tr th {\n",
              "        vertical-align: top;\n",
              "    }\n",
              "\n",
              "    .dataframe thead th {\n",
              "        text-align: right;\n",
              "    }\n",
              "</style>\n",
              "<table border=\"1\" class=\"dataframe\">\n",
              "  <thead>\n",
              "    <tr style=\"text-align: right;\">\n",
              "      <th></th>\n",
              "      <th>Precision</th>\n",
              "      <th>Recall</th>\n",
              "      <th>F1-Score</th>\n",
              "      <th>ROC-AUC</th>\n",
              "      <th>Accuracy</th>\n",
              "      <th>kappa</th>\n",
              "    </tr>\n",
              "  </thead>\n",
              "  <tbody>\n",
              "    <tr>\n",
              "      <th>0</th>\n",
              "      <td>0.712092</td>\n",
              "      <td>0.883333</td>\n",
              "      <td>0.730717</td>\n",
              "      <td>0.763095</td>\n",
              "      <td>0.763095</td>\n",
              "      <td>0.526190</td>\n",
              "    </tr>\n",
              "    <tr>\n",
              "      <th>1</th>\n",
              "      <td>0.714019</td>\n",
              "      <td>0.909524</td>\n",
              "      <td>0.736552</td>\n",
              "      <td>0.772619</td>\n",
              "      <td>0.772619</td>\n",
              "      <td>0.545238</td>\n",
              "    </tr>\n",
              "    <tr>\n",
              "      <th>2</th>\n",
              "      <td>0.691606</td>\n",
              "      <td>0.902381</td>\n",
              "      <td>0.705056</td>\n",
              "      <td>0.750000</td>\n",
              "      <td>0.750000</td>\n",
              "      <td>0.500000</td>\n",
              "    </tr>\n",
              "    <tr>\n",
              "      <th>3</th>\n",
              "      <td>0.732943</td>\n",
              "      <td>0.895238</td>\n",
              "      <td>0.757697</td>\n",
              "      <td>0.784524</td>\n",
              "      <td>0.784524</td>\n",
              "      <td>0.569048</td>\n",
              "    </tr>\n",
              "    <tr>\n",
              "      <th>4</th>\n",
              "      <td>0.711645</td>\n",
              "      <td>0.916667</td>\n",
              "      <td>0.734353</td>\n",
              "      <td>0.772619</td>\n",
              "      <td>0.772619</td>\n",
              "      <td>0.545238</td>\n",
              "    </tr>\n",
              "    <tr>\n",
              "      <th>5</th>\n",
              "      <td>0.721495</td>\n",
              "      <td>0.919048</td>\n",
              "      <td>0.747586</td>\n",
              "      <td>0.782143</td>\n",
              "      <td>0.782143</td>\n",
              "      <td>0.564286</td>\n",
              "    </tr>\n",
              "    <tr>\n",
              "      <th>6</th>\n",
              "      <td>0.712406</td>\n",
              "      <td>0.902381</td>\n",
              "      <td>0.733516</td>\n",
              "      <td>0.769048</td>\n",
              "      <td>0.769048</td>\n",
              "      <td>0.538095</td>\n",
              "    </tr>\n",
              "    <tr>\n",
              "      <th>7</th>\n",
              "      <td>0.698355</td>\n",
              "      <td>0.909524</td>\n",
              "      <td>0.715288</td>\n",
              "      <td>0.758333</td>\n",
              "      <td>0.758333</td>\n",
              "      <td>0.516667</td>\n",
              "    </tr>\n",
              "    <tr>\n",
              "      <th>8</th>\n",
              "      <td>0.687739</td>\n",
              "      <td>0.854762</td>\n",
              "      <td>0.696477</td>\n",
              "      <td>0.733333</td>\n",
              "      <td>0.733333</td>\n",
              "      <td>0.466667</td>\n",
              "    </tr>\n",
              "    <tr>\n",
              "      <th>9</th>\n",
              "      <td>0.708098</td>\n",
              "      <td>0.895238</td>\n",
              "      <td>0.727023</td>\n",
              "      <td>0.763095</td>\n",
              "      <td>0.763095</td>\n",
              "      <td>0.526190</td>\n",
              "    </tr>\n",
              "    <tr>\n",
              "      <th>Rataan</th>\n",
              "      <td>0.709040</td>\n",
              "      <td>0.898810</td>\n",
              "      <td>0.728427</td>\n",
              "      <td>0.764881</td>\n",
              "      <td>0.764881</td>\n",
              "      <td>0.529762</td>\n",
              "    </tr>\n",
              "  </tbody>\n",
              "</table>\n",
              "</div>"
            ],
            "text/plain": [
              "        Precision    Recall  F1-Score   ROC-AUC  Accuracy     kappa\n",
              "0        0.712092  0.883333  0.730717  0.763095  0.763095  0.526190\n",
              "1        0.714019  0.909524  0.736552  0.772619  0.772619  0.545238\n",
              "2        0.691606  0.902381  0.705056  0.750000  0.750000  0.500000\n",
              "3        0.732943  0.895238  0.757697  0.784524  0.784524  0.569048\n",
              "4        0.711645  0.916667  0.734353  0.772619  0.772619  0.545238\n",
              "5        0.721495  0.919048  0.747586  0.782143  0.782143  0.564286\n",
              "6        0.712406  0.902381  0.733516  0.769048  0.769048  0.538095\n",
              "7        0.698355  0.909524  0.715288  0.758333  0.758333  0.516667\n",
              "8        0.687739  0.854762  0.696477  0.733333  0.733333  0.466667\n",
              "9        0.708098  0.895238  0.727023  0.763095  0.763095  0.526190\n",
              "Rataan   0.709040  0.898810  0.728427  0.764881  0.764881  0.529762"
            ]
          },
          "metadata": {
            "tags": []
          },
          "execution_count": 55
        }
      ]
    },
    {
      "cell_type": "markdown",
      "metadata": {
        "id": "3oqTC4wQ6bpC"
      },
      "source": [
        "**SKENARIO 2**"
      ]
    },
    {
      "cell_type": "code",
      "metadata": {
        "colab": {
          "base_uri": "https://localhost:8080/",
          "height": 204
        },
        "id": "IWEa4YVy6flK",
        "outputId": "5f5c49d0-2a6d-43b4-d5cf-068ed7257442"
      },
      "source": [
        "#membaca skenario 2\n",
        "skenario_2 = pd.read_csv('skenario_2.csv')\n",
        "skenario_2.columns = ['id', 'VH', 'VV', 'VV-VH', 'Class']\n",
        "#skenario_2 = skenario_2.drop([\"Unnamed: 0\"], axis=1)\n",
        "skenario_2.head()"
      ],
      "execution_count": null,
      "outputs": [
        {
          "output_type": "execute_result",
          "data": {
            "text/html": [
              "<div>\n",
              "<style scoped>\n",
              "    .dataframe tbody tr th:only-of-type {\n",
              "        vertical-align: middle;\n",
              "    }\n",
              "\n",
              "    .dataframe tbody tr th {\n",
              "        vertical-align: top;\n",
              "    }\n",
              "\n",
              "    .dataframe thead th {\n",
              "        text-align: right;\n",
              "    }\n",
              "</style>\n",
              "<table border=\"1\" class=\"dataframe\">\n",
              "  <thead>\n",
              "    <tr style=\"text-align: right;\">\n",
              "      <th></th>\n",
              "      <th>id</th>\n",
              "      <th>VH</th>\n",
              "      <th>VV</th>\n",
              "      <th>VV-VH</th>\n",
              "      <th>Class</th>\n",
              "    </tr>\n",
              "  </thead>\n",
              "  <tbody>\n",
              "    <tr>\n",
              "      <th>0</th>\n",
              "      <td>0</td>\n",
              "      <td>-8.031878</td>\n",
              "      <td>4.072913</td>\n",
              "      <td>12.104790</td>\n",
              "      <td>Non Bawang Putih</td>\n",
              "    </tr>\n",
              "    <tr>\n",
              "      <th>1</th>\n",
              "      <td>1</td>\n",
              "      <td>-16.969912</td>\n",
              "      <td>-6.497394</td>\n",
              "      <td>10.472518</td>\n",
              "      <td>Bawang Putih</td>\n",
              "    </tr>\n",
              "    <tr>\n",
              "      <th>2</th>\n",
              "      <td>2</td>\n",
              "      <td>-14.984341</td>\n",
              "      <td>-7.530547</td>\n",
              "      <td>7.453794</td>\n",
              "      <td>Non Bawang Putih</td>\n",
              "    </tr>\n",
              "    <tr>\n",
              "      <th>3</th>\n",
              "      <td>3</td>\n",
              "      <td>-13.026290</td>\n",
              "      <td>-8.971922</td>\n",
              "      <td>4.054368</td>\n",
              "      <td>Bawang Putih</td>\n",
              "    </tr>\n",
              "    <tr>\n",
              "      <th>4</th>\n",
              "      <td>4</td>\n",
              "      <td>-12.979395</td>\n",
              "      <td>-9.032339</td>\n",
              "      <td>3.947056</td>\n",
              "      <td>Bawang Putih</td>\n",
              "    </tr>\n",
              "  </tbody>\n",
              "</table>\n",
              "</div>"
            ],
            "text/plain": [
              "   id         VH        VV      VV-VH             Class\n",
              "0   0  -8.031878  4.072913  12.104790  Non Bawang Putih\n",
              "1   1 -16.969912 -6.497394  10.472518      Bawang Putih\n",
              "2   2 -14.984341 -7.530547   7.453794  Non Bawang Putih\n",
              "3   3 -13.026290 -8.971922   4.054368      Bawang Putih\n",
              "4   4 -12.979395 -9.032339   3.947056      Bawang Putih"
            ]
          },
          "metadata": {
            "tags": []
          },
          "execution_count": 71
        }
      ]
    },
    {
      "cell_type": "code",
      "metadata": {
        "id": "efJ99j9a7heD"
      },
      "source": [
        "#mengfaktorisasi class menjadi 0 dan 1\n",
        "#skenario_2['Class'],_ = pd.factorize(skenario_2['Class'])\n",
        "#skenario_2 = skenario_2.drop([\"id\"], axis=1)"
      ],
      "execution_count": null,
      "outputs": []
    },
    {
      "cell_type": "code",
      "metadata": {
        "id": "ZGjiC5hmL7LR"
      },
      "source": [
        "#79% bawang putih = 0, non bawang putih =1\n",
        "\n",
        "def buat_kategori(value):\n",
        "    if value == \"Bawang Putih\" :\n",
        "        val = 0\n",
        "    else:\n",
        "        val = 1\n",
        "    return val\n",
        "\n",
        "for j in skenario_2.index:\n",
        "      skenario_2.at[j, 'Class1'] = buat_kategori(skenario_2.at[j, 'Class'])\n",
        "skenario_2 = skenario_2.drop([\"id\"], axis=1)\n",
        "skenario_2 = skenario_2.drop([\"Class\"], axis=1)"
      ],
      "execution_count": null,
      "outputs": []
    },
    {
      "cell_type": "code",
      "metadata": {
        "id": "BceLoRw47los"
      },
      "source": [
        "#memishkan atribut kelas  dari seknario 2\n",
        "Class_2= skenario_2.Class1\n",
        "skenario_2.drop(['Class1'], axis = 1, inplace = True)"
      ],
      "execution_count": null,
      "outputs": []
    },
    {
      "cell_type": "code",
      "metadata": {
        "id": "UaBF061a7qAW"
      },
      "source": [
        "#membagi dataset menjadi 90:10\n",
        "from sklearn.model_selection import train_test_split\n",
        "X_train2, X_test2, Y_train2, Y_test2 = train_test_split(skenario_2, Class_2, test_size = 0.1, stratify=Class_2, random_state = 123)"
      ],
      "execution_count": null,
      "outputs": []
    },
    {
      "cell_type": "code",
      "metadata": {
        "colab": {
          "base_uri": "https://localhost:8080/"
        },
        "id": "AVhIlNR07wrl",
        "outputId": "8e2a7c60-e841-4242-85f7-4c9eac9cd0c9"
      },
      "source": [
        "#menentukan best paramter dengan grid search\n",
        "\n",
        "import time\n",
        "start = time.time()\n",
        "random_grid = {\"min_samples_split\": [3, 4],\n",
        "              \"min_samples_leaf\": [1, 2],\n",
        "              \"max_depth\": [3, 4, 5],\n",
        "              \"n_estimators\" : [600, 700],\n",
        "              \"max_features\":['sqrt']}\n",
        "\n",
        "classifier_bp = GridSearchCV(estimator=RandomForestClassifier(),\n",
        "                    param_grid=random_grid,\n",
        "                    cv=10,\n",
        "                    refit=True,\n",
        "                    error_score=0,\n",
        "                    n_jobs=-1)\n",
        "\n",
        "classifier_bp.fit(X_train2, Y_train2)\n",
        "#Mengambil parameter RF\n",
        "optimised_random2 = classifier_bp.best_estimator_\n",
        "#Memprediksi model menggunakan data test\n",
        "Y_pred2 = classifier_bp.predict(X_test2)\n",
        "#accu = clf.score(X_test, Y_test)\n",
        "elapsed_time = (time.time() - start)\n",
        "elapsed_time\n",
        "print(\"Waktu Training random forest grid search:{} detik\".format(elapsed_time))"
      ],
      "execution_count": null,
      "outputs": [
        {
          "output_type": "stream",
          "text": [
            "Waktu Training random forest grid search:543.0954344272614 detik\n"
          ],
          "name": "stdout"
        }
      ]
    },
    {
      "cell_type": "code",
      "metadata": {
        "colab": {
          "base_uri": "https://localhost:8080/"
        },
        "id": "gXJTGgxn9BBa",
        "outputId": "bbb47087-8ce8-44a6-cf96-de353951e58c"
      },
      "source": [
        "#MENENTUKAN BEST PARAMETER dengan random sarch\n",
        "#dikarenakan waktu pemrosesan grid search lama\n",
        "\n",
        "import time\n",
        "start = time.time()\n",
        "\n",
        "random_grid = {\"min_samples_split\": [3, 4],\n",
        "              \"min_samples_leaf\": [1, 2],\n",
        "              \"max_depth\": [3, 4, 5],\n",
        "              \"n_estimators\" : [600, 700],\n",
        "              \"max_features\":['sqrt']}\n",
        "\n",
        "classifier_bp = RandomizedSearchCV(estimator=RandomForestClassifier(),\n",
        "                    param_distributions=random_grid,\n",
        "                    cv=10,\n",
        "                    refit=True,\n",
        "                    error_score=0,\n",
        "                    n_jobs=-1)\n",
        "\n",
        "classifier_bp.fit(X_train2, Y_train2)\n",
        "#Mengambil parameter RF\n",
        "optimised_random2 = classifier_bp.best_estimator_\n",
        "#Memprediksi model menggunakan data test\n",
        "Y_pred2 = classifier_bp.predict(X_test2)\n",
        "#accu = clf.score(X_test, Y_test)\n",
        "elapsed_time = (time.time() - start)\n",
        "elapsed_time\n",
        "print(\"Waktu Training random forest random search:{} detik\".format(elapsed_time))"
      ],
      "execution_count": null,
      "outputs": [
        {
          "output_type": "stream",
          "text": [
            "Waktu Training random forest random search:232.34996700286865 detik\n"
          ],
          "name": "stdout"
        }
      ]
    },
    {
      "cell_type": "code",
      "metadata": {
        "id": "r2H9KzbW8FnA"
      },
      "source": [
        "optimised_random2"
      ],
      "execution_count": null,
      "outputs": []
    },
    {
      "cell_type": "code",
      "metadata": {
        "id": "Iowl9q7E8Ien"
      },
      "source": [
        "#MENG_ASSIGN VARIABEL FITUR DAN KELAS\n",
        "features2 = list(skenario_2[1:])\n",
        "#features\n",
        "class_names = [\"Bawang Putih\", \"Non Bawang Putih\"]\n",
        "#class_names\n",
        "#PENGGUNAAN K_FOLD DENGAN K=10 KEDALAM random forest\n",
        "\n",
        "#Import Library yang dibutuhkan\n",
        "import time\n",
        "from sklearn.model_selection import StratifiedKFold\n",
        "from sklearn.metrics import cohen_kappa_score\n",
        "from sklearn.metrics import precision_score,recall_score,f1_score,roc_auc_score\n",
        "from IPython.display import Image  \n",
        "from sklearn.externals.six import StringIO  \n",
        "import pydotplus\n",
        "import graphviz\n",
        "from graphviz import Source\n",
        "from sklearn import tree\n",
        "\n",
        "\n",
        "start = time.time()\n",
        "array_best_parameter = []\n",
        "metrics2 = []\n",
        "model2 = []\n",
        "train2 = []\n",
        "test2 = []\n",
        "pred2 = []\n",
        "x = skenario_2\n",
        "y = Class_2\n",
        "cv = StratifiedKFold(n_splits=10, random_state=123, shuffle=False)\n",
        "\n",
        "\n",
        "for idx,(train_index, test_index) in enumerate(cv.split(x, y)):\n",
        "    X_tr, X_te, y_tr, y_te = x.iloc[train_index,:], x.iloc[test_index,:], y.iloc[train_index], y.iloc[test_index]\n",
        "    #Membuat model per fold (kalo cv=10 lama banget)\n",
        "    model_dt = optimised_random2\n",
        "    model_dt.fit(X_tr,y_tr)\n",
        "    y_pred = model_dt.predict(X_te)\n",
        "    #Mendapatkan kombinasi data train&test masing-masing fold\n",
        "    train2.append([X_tr, y_tr])\n",
        "    test2.append([X_te, y_te])\n",
        "    pred2.append(y_pred)\n",
        "    #Mengevaluasi model DT perfold\n",
        "    f1 =f1_score(y_te,y_pred,pos_label = 0)\n",
        "    accu = model_dt.score(X_te,y_te)\n",
        "    kappa = cohen_kappa_score(y_pred, y_te, weights='quadratic')\n",
        "    prec = (precision_score(y_te,y_pred,pos_label=0))\n",
        "    rec = (recall_score(y_te,y_pred,pos_label=0))\n",
        "    metrics2.append([prec,rec,f1,roc_auc_score(y_te,y_pred), accu, kappa])\n",
        "    dot_data = StringIO()\n",
        "    #tree.export_graphviz(model_dt, out_file=dot_data,  \n",
        "    #                     feature_names=features2, class_names=class_names)\n",
        "    #model2.append(dot_data)\n",
        "   \n",
        "\n",
        "metrics2_df = pd.DataFrame(metrics2,columns =[\"Precision\",\"Recall\",\"F1-Score\",\"ROC-AUC\",\"Accuracy\", \"kappa\"])\n",
        "elapsed_time = (time.time() - start)\n",
        "elapsed_time\n",
        "print(\"Waktu Training random forest:{} detik\".format(elapsed_time))"
      ],
      "execution_count": null,
      "outputs": []
    },
    {
      "cell_type": "code",
      "metadata": {
        "colab": {
          "base_uri": "https://localhost:8080/",
          "height": 378
        },
        "id": "5wgkm0E88Sms",
        "outputId": "1d144104-706d-4b42-a24d-b05a15045d9a"
      },
      "source": [
        "#EVALUASI 10 MODEL HASIL K-FOLD {AKURASI & KAPPA}\n",
        "\n",
        "\n",
        "p = metrics2_df.mean()\n",
        "rataan = pd.DataFrame(p, columns = ['Rataan'])\n",
        "rataan = rataan.transpose()\n",
        "evaluasi = metrics_df.append(rataan)\n",
        "evaluasi"
      ],
      "execution_count": null,
      "outputs": [
        {
          "output_type": "execute_result",
          "data": {
            "text/html": [
              "<div>\n",
              "<style scoped>\n",
              "    .dataframe tbody tr th:only-of-type {\n",
              "        vertical-align: middle;\n",
              "    }\n",
              "\n",
              "    .dataframe tbody tr th {\n",
              "        vertical-align: top;\n",
              "    }\n",
              "\n",
              "    .dataframe thead th {\n",
              "        text-align: right;\n",
              "    }\n",
              "</style>\n",
              "<table border=\"1\" class=\"dataframe\">\n",
              "  <thead>\n",
              "    <tr style=\"text-align: right;\">\n",
              "      <th></th>\n",
              "      <th>Precision</th>\n",
              "      <th>Recall</th>\n",
              "      <th>F1-Score</th>\n",
              "      <th>ROC-AUC</th>\n",
              "      <th>Accuracy</th>\n",
              "      <th>kappa</th>\n",
              "    </tr>\n",
              "  </thead>\n",
              "  <tbody>\n",
              "    <tr>\n",
              "      <th>0</th>\n",
              "      <td>0.841121</td>\n",
              "      <td>0.642857</td>\n",
              "      <td>0.785942</td>\n",
              "      <td>0.760714</td>\n",
              "      <td>0.760714</td>\n",
              "      <td>0.521429</td>\n",
              "    </tr>\n",
              "    <tr>\n",
              "      <th>1</th>\n",
              "      <td>0.872964</td>\n",
              "      <td>0.638095</td>\n",
              "      <td>0.799580</td>\n",
              "      <td>0.772619</td>\n",
              "      <td>0.772619</td>\n",
              "      <td>0.545238</td>\n",
              "    </tr>\n",
              "    <tr>\n",
              "      <th>2</th>\n",
              "      <td>0.854305</td>\n",
              "      <td>0.614286</td>\n",
              "      <td>0.784969</td>\n",
              "      <td>0.754762</td>\n",
              "      <td>0.754762</td>\n",
              "      <td>0.509524</td>\n",
              "    </tr>\n",
              "    <tr>\n",
              "      <th>3</th>\n",
              "      <td>0.864198</td>\n",
              "      <td>0.666667</td>\n",
              "      <td>0.803419</td>\n",
              "      <td>0.780952</td>\n",
              "      <td>0.780952</td>\n",
              "      <td>0.561905</td>\n",
              "    </tr>\n",
              "    <tr>\n",
              "      <th>4</th>\n",
              "      <td>0.870550</td>\n",
              "      <td>0.640476</td>\n",
              "      <td>0.799159</td>\n",
              "      <td>0.772619</td>\n",
              "      <td>0.772619</td>\n",
              "      <td>0.545238</td>\n",
              "    </tr>\n",
              "    <tr>\n",
              "      <th>5</th>\n",
              "      <td>0.877023</td>\n",
              "      <td>0.645238</td>\n",
              "      <td>0.803365</td>\n",
              "      <td>0.777381</td>\n",
              "      <td>0.777381</td>\n",
              "      <td>0.554762</td>\n",
              "    </tr>\n",
              "    <tr>\n",
              "      <th>6</th>\n",
              "      <td>0.860841</td>\n",
              "      <td>0.633333</td>\n",
              "      <td>0.792850</td>\n",
              "      <td>0.765476</td>\n",
              "      <td>0.765476</td>\n",
              "      <td>0.530952</td>\n",
              "    </tr>\n",
              "    <tr>\n",
              "      <th>7</th>\n",
              "      <td>0.866221</td>\n",
              "      <td>0.616667</td>\n",
              "      <td>0.790843</td>\n",
              "      <td>0.760714</td>\n",
              "      <td>0.760714</td>\n",
              "      <td>0.521429</td>\n",
              "    </tr>\n",
              "    <tr>\n",
              "      <th>8</th>\n",
              "      <td>0.808777</td>\n",
              "      <td>0.614286</td>\n",
              "      <td>0.763018</td>\n",
              "      <td>0.734524</td>\n",
              "      <td>0.734524</td>\n",
              "      <td>0.469048</td>\n",
              "    </tr>\n",
              "    <tr>\n",
              "      <th>9</th>\n",
              "      <td>0.858065</td>\n",
              "      <td>0.633333</td>\n",
              "      <td>0.791579</td>\n",
              "      <td>0.764286</td>\n",
              "      <td>0.764286</td>\n",
              "      <td>0.528571</td>\n",
              "    </tr>\n",
              "    <tr>\n",
              "      <th>Rataan</th>\n",
              "      <td>0.859745</td>\n",
              "      <td>0.631905</td>\n",
              "      <td>0.728275</td>\n",
              "      <td>0.764286</td>\n",
              "      <td>0.764286</td>\n",
              "      <td>0.528571</td>\n",
              "    </tr>\n",
              "  </tbody>\n",
              "</table>\n",
              "</div>"
            ],
            "text/plain": [
              "        Precision    Recall  F1-Score   ROC-AUC  Accuracy     kappa\n",
              "0        0.841121  0.642857  0.785942  0.760714  0.760714  0.521429\n",
              "1        0.872964  0.638095  0.799580  0.772619  0.772619  0.545238\n",
              "2        0.854305  0.614286  0.784969  0.754762  0.754762  0.509524\n",
              "3        0.864198  0.666667  0.803419  0.780952  0.780952  0.561905\n",
              "4        0.870550  0.640476  0.799159  0.772619  0.772619  0.545238\n",
              "5        0.877023  0.645238  0.803365  0.777381  0.777381  0.554762\n",
              "6        0.860841  0.633333  0.792850  0.765476  0.765476  0.530952\n",
              "7        0.866221  0.616667  0.790843  0.760714  0.760714  0.521429\n",
              "8        0.808777  0.614286  0.763018  0.734524  0.734524  0.469048\n",
              "9        0.858065  0.633333  0.791579  0.764286  0.764286  0.528571\n",
              "Rataan   0.859745  0.631905  0.728275  0.764286  0.764286  0.528571"
            ]
          },
          "metadata": {
            "tags": []
          },
          "execution_count": 17
        }
      ]
    },
    {
      "cell_type": "markdown",
      "metadata": {
        "id": "RSP47lgY_T_Q"
      },
      "source": [
        "**SKENARIO 3**"
      ]
    },
    {
      "cell_type": "code",
      "metadata": {
        "colab": {
          "base_uri": "https://localhost:8080/",
          "height": 204
        },
        "id": "yg_-1pju_STS",
        "outputId": "1761312f-4c18-4b8b-99fa-a0f3e702cc24"
      },
      "source": [
        "#read file skenario 3\n",
        "skenario_3 = pd.read_csv('skenario_3.csv')\n",
        "skenario_3.columns = ['id', 'VH', 'VV', 'VV-VH', 'VV/VH', '(VV+VH)/2', 'Class']\n",
        "#skenario_3 = skenario_3.drop([\"Unnamed: 0\"], axis=1)\n",
        "skenario_3.head()"
      ],
      "execution_count": null,
      "outputs": [
        {
          "output_type": "execute_result",
          "data": {
            "text/html": [
              "<div>\n",
              "<style scoped>\n",
              "    .dataframe tbody tr th:only-of-type {\n",
              "        vertical-align: middle;\n",
              "    }\n",
              "\n",
              "    .dataframe tbody tr th {\n",
              "        vertical-align: top;\n",
              "    }\n",
              "\n",
              "    .dataframe thead th {\n",
              "        text-align: right;\n",
              "    }\n",
              "</style>\n",
              "<table border=\"1\" class=\"dataframe\">\n",
              "  <thead>\n",
              "    <tr style=\"text-align: right;\">\n",
              "      <th></th>\n",
              "      <th>id</th>\n",
              "      <th>VH</th>\n",
              "      <th>VV</th>\n",
              "      <th>VV-VH</th>\n",
              "      <th>VV/VH</th>\n",
              "      <th>(VV+VH)/2</th>\n",
              "      <th>Class</th>\n",
              "    </tr>\n",
              "  </thead>\n",
              "  <tbody>\n",
              "    <tr>\n",
              "      <th>0</th>\n",
              "      <td>0</td>\n",
              "      <td>-8.031878</td>\n",
              "      <td>4.072913</td>\n",
              "      <td>12.104790</td>\n",
              "      <td>-0.507093</td>\n",
              "      <td>-1.979482</td>\n",
              "      <td>Non Bawang Putih</td>\n",
              "    </tr>\n",
              "    <tr>\n",
              "      <th>1</th>\n",
              "      <td>1</td>\n",
              "      <td>-16.969912</td>\n",
              "      <td>-6.497394</td>\n",
              "      <td>10.472518</td>\n",
              "      <td>0.382877</td>\n",
              "      <td>-11.733653</td>\n",
              "      <td>Bawang Putih</td>\n",
              "    </tr>\n",
              "    <tr>\n",
              "      <th>2</th>\n",
              "      <td>2</td>\n",
              "      <td>-14.984341</td>\n",
              "      <td>-7.530547</td>\n",
              "      <td>7.453794</td>\n",
              "      <td>0.502561</td>\n",
              "      <td>-11.257444</td>\n",
              "      <td>Non Bawang Putih</td>\n",
              "    </tr>\n",
              "    <tr>\n",
              "      <th>3</th>\n",
              "      <td>3</td>\n",
              "      <td>-13.026290</td>\n",
              "      <td>-8.971922</td>\n",
              "      <td>4.054368</td>\n",
              "      <td>0.688755</td>\n",
              "      <td>-10.999106</td>\n",
              "      <td>Bawang Putih</td>\n",
              "    </tr>\n",
              "    <tr>\n",
              "      <th>4</th>\n",
              "      <td>4</td>\n",
              "      <td>-12.979395</td>\n",
              "      <td>-9.032339</td>\n",
              "      <td>3.947056</td>\n",
              "      <td>0.695898</td>\n",
              "      <td>-11.005867</td>\n",
              "      <td>Bawang Putih</td>\n",
              "    </tr>\n",
              "  </tbody>\n",
              "</table>\n",
              "</div>"
            ],
            "text/plain": [
              "   id         VH        VV      VV-VH     VV/VH  (VV+VH)/2             Class\n",
              "0   0  -8.031878  4.072913  12.104790 -0.507093  -1.979482  Non Bawang Putih\n",
              "1   1 -16.969912 -6.497394  10.472518  0.382877 -11.733653      Bawang Putih\n",
              "2   2 -14.984341 -7.530547   7.453794  0.502561 -11.257444  Non Bawang Putih\n",
              "3   3 -13.026290 -8.971922   4.054368  0.688755 -10.999106      Bawang Putih\n",
              "4   4 -12.979395 -9.032339   3.947056  0.695898 -11.005867      Bawang Putih"
            ]
          },
          "metadata": {
            "tags": []
          },
          "execution_count": 90
        }
      ]
    },
    {
      "cell_type": "code",
      "metadata": {
        "id": "xbzh0e8C_k-o"
      },
      "source": [
        "#faktorisasi class menjadi 0 dan 1\n",
        "#skenario_3['Class'],_ = pd.factorize(skenario_3['Class'])\n",
        "#skenario_3 = skenario_3.drop([\"id\"], axis=1)"
      ],
      "execution_count": null,
      "outputs": []
    },
    {
      "cell_type": "code",
      "metadata": {
        "id": "z9ePY4fjefuS"
      },
      "source": [
        "#79% bawang putih = 0, non bawang putih =1\n",
        "\n",
        "def buat_kategori(value):\n",
        "    if value == \"Bawang Putih\" :\n",
        "        val = 0\n",
        "    else:\n",
        "        val = 1\n",
        "    return val\n",
        "\n",
        "for j in skenario_3.index:\n",
        "      skenario_3.at[j, 'Class1'] = buat_kategori(skenario_3.at[j, 'Class'])\n",
        "skenario_3 = skenario_3.drop([\"id\"], axis=1)\n",
        "skenario_3 = skenario_3.drop([\"Class\"], axis=1)"
      ],
      "execution_count": null,
      "outputs": []
    },
    {
      "cell_type": "code",
      "metadata": {
        "id": "mYbYprHAAbdk"
      },
      "source": [
        "#memisahkan atribut kelas  dari seknario 2\n",
        "Class_3= skenario_3.Class1\n",
        "skenario_3.drop(['Class1'], axis = 1, inplace = True)"
      ],
      "execution_count": null,
      "outputs": []
    },
    {
      "cell_type": "code",
      "metadata": {
        "id": "AilG_YNPAQFj"
      },
      "source": [
        "#membagi dataset menjadi 90:10\n",
        "from sklearn.model_selection import train_test_split\n",
        "X_train3, X_test3, Y_train3, Y_test3 = train_test_split(skenario_3, Class_3, test_size = 0.1, stratify=Class_3, random_state = 123)"
      ],
      "execution_count": null,
      "outputs": []
    },
    {
      "cell_type": "code",
      "metadata": {
        "colab": {
          "base_uri": "https://localhost:8080/"
        },
        "id": "jM8dKqbBAqXT",
        "outputId": "8a9b196c-90de-45b0-bedf-7e49e61a07c5"
      },
      "source": [
        "#menentukan best paramter dengan grid search\n",
        "\n",
        "import time\n",
        "start = time.time()\n",
        "random_grid = {\"min_samples_split\": [3, 4],\n",
        "              \"min_samples_leaf\": [1, 2],\n",
        "              \"max_depth\": [3, 4, 5],\n",
        "              \"n_estimators\" : [600, 700],\n",
        "              \"max_features\":['sqrt']}\n",
        "\n",
        "classifier_bp = GridSearchCV(estimator=RandomForestClassifier(),\n",
        "                    param_grid=random_grid,\n",
        "                    cv=10,\n",
        "                    refit=True,\n",
        "                    error_score=0,\n",
        "                    n_jobs=-1)\n",
        "\n",
        "classifier_bp.fit(X_train3, Y_train3)\n",
        "#Mengambil parameter RF\n",
        "optimised_random3 = classifier_bp.best_estimator_\n",
        "#Memprediksi model menggunakan data test\n",
        "Y_pred3 = classifier_bp.predict(X_test3)\n",
        "#accu = clf.score(X_test, Y_test)\n",
        "elapsed_time = (time.time() - start)\n",
        "elapsed_time\n",
        "print(\"Waktu Training random forest grid search:{} detik\".format(elapsed_time))"
      ],
      "execution_count": null,
      "outputs": [
        {
          "output_type": "stream",
          "text": [
            "Waktu Training random forest grid search:761.3877651691437 detik\n"
          ],
          "name": "stdout"
        }
      ]
    },
    {
      "cell_type": "code",
      "metadata": {
        "colab": {
          "base_uri": "https://localhost:8080/"
        },
        "id": "OSlyAK2KAtVh",
        "outputId": "cea79756-87b3-4ec4-dcf5-cd25c2be12b8"
      },
      "source": [
        "#MENENTUKAN BEST PARAMETER dengan random sarch\n",
        "#dikarenakan waktu pemrosesan grid search lama\n",
        "\n",
        "import time\n",
        "start = time.time()\n",
        "\n",
        "random_grid = {\"min_samples_split\": [3, 4],\n",
        "              \"min_samples_leaf\": [1, 2],\n",
        "              \"max_depth\": [3, 4, 5],\n",
        "              \"n_estimators\" : [600, 700],\n",
        "              \"max_features\":['sqrt']}\n",
        "\n",
        "classifier_bp = RandomizedSearchCV(estimator=RandomForestClassifier(),\n",
        "                    param_distributions=random_grid,\n",
        "                    cv=10,\n",
        "                    refit=True,\n",
        "                    error_score=0,\n",
        "                    n_jobs=-1)\n",
        "\n",
        "classifier_bp.fit(X_train3, Y_train3)\n",
        "#Mengambil parameter RF\n",
        "optimised_random3 = classifier_bp.best_estimator_\n",
        "#Memprediksi model menggunakan data test\n",
        "Y_pred3 = classifier_bp.predict(X_test3)\n",
        "#accu = clf.score(X_test, Y_test)\n",
        "elapsed_time = (time.time() - start)\n",
        "elapsed_time\n",
        "print(\"Waktu Training random forest random search:{} detik\".format(elapsed_time))"
      ],
      "execution_count": null,
      "outputs": [
        {
          "output_type": "stream",
          "text": [
            "Waktu Training random forest random search:335.9220914840698 detik\n"
          ],
          "name": "stdout"
        }
      ]
    },
    {
      "cell_type": "code",
      "metadata": {
        "id": "Wj11q4rMCRmO"
      },
      "source": [
        "optimised_random3"
      ],
      "execution_count": null,
      "outputs": []
    },
    {
      "cell_type": "code",
      "metadata": {
        "id": "GkaP-Mac_v-b"
      },
      "source": [
        "#classification_report\n",
        "print(classification_report(Y_test3, Y_pred3))"
      ],
      "execution_count": null,
      "outputs": []
    },
    {
      "cell_type": "code",
      "metadata": {
        "colab": {
          "base_uri": "https://localhost:8080/",
          "height": 338
        },
        "id": "DZESxaJx_yvI",
        "outputId": "0576c00c-a908-4dd5-d6f6-59bd09c0e471"
      },
      "source": [
        "#confusion matrix keseluruhan skenario\n",
        "from sklearn.metrics import confusion_matrix\n",
        "cm = confusion_matrix(Y_test3, Y_pred3)\n",
        "print(confusion_matrix(Y_test3, Y_pred3))\n",
        "plt.matshow(cm)\n",
        "plt.title('Confusion matrix \\n Dataset A\\n')\n",
        "print()\n",
        "plt.colorbar()\n",
        "plt.ylabel('True label')\n",
        "plt.xlabel('Predicted label')\n",
        "plt.show()"
      ],
      "execution_count": null,
      "outputs": [
        {
          "output_type": "stream",
          "text": [
            "[[387  33]\n",
            " [180 240]]\n",
            "\n"
          ],
          "name": "stdout"
        },
        {
          "output_type": "display_data",
          "data": {
            "image/png": "[encoded data removed]",
            "text/plain": [
              "<Figure size 288x288 with 2 Axes>"
            ]
          },
          "metadata": {
            "tags": [],
            "needs_background": "light"
          }
        }
      ]
    },
    {
      "cell_type": "code",
      "metadata": {
        "id": "PjBayCqG_zAz"
      },
      "source": [
        "#MENG_ASSIGN VARIABEL FITUR DAN KELAS\n",
        "features3 = list(skenario_3[1:])\n",
        "class_names = [\"Bawang Putih\", \"Non Bawang Putih\"]\n",
        "#K Fold pada random forest\n",
        "import time\n",
        "from sklearn.model_selection import StratifiedKFold\n",
        "from sklearn.metrics import cohen_kappa_score\n",
        "from sklearn.metrics import precision_score,recall_score,f1_score,roc_auc_score\n",
        "from IPython.display import Image  \n",
        "from sklearn.externals.six import StringIO  \n",
        "import pydotplus\n",
        "import graphviz\n",
        "from graphviz import Source\n",
        "from sklearn import tree\n",
        "\n",
        "\n",
        "start = time.time()\n",
        "array_best_parameter = []\n",
        "metrics3 = []\n",
        "model3 = []\n",
        "train3 = []\n",
        "test3 = []\n",
        "pred3 = []\n",
        "x = skenario_3\n",
        "y = Class_3\n",
        "cv = StratifiedKFold(n_splits=10, random_state=123, shuffle=False)\n",
        "\n",
        "\n",
        "for idx,(train_index, test_index) in enumerate(cv.split(x, y)):\n",
        "    X_tr, X_te, y_tr, y_te = x.iloc[train_index,:], x.iloc[test_index,:], y.iloc[train_index], y.iloc[test_index]\n",
        "    #Membuat model per fold (kalo cv=10 lama banget)\n",
        "    model_dt = optimised_random3\n",
        "    model_dt.fit(X_tr,y_tr)\n",
        "    y_pred = model_dt.predict(X_te)\n",
        "    #Mendapatkan kombinasi data train&test masing-masing fold\n",
        "    train3.append([X_tr, y_tr])\n",
        "    test3.append([X_te, y_te])\n",
        "    pred3.append(y_pred)\n",
        "    #Mengevaluasi model DT perfold\n",
        "    f1 =f1_score(y_te,y_pred,pos_label = 0)\n",
        "    accu = model_dt.score(X_te,y_te)\n",
        "    kappa = cohen_kappa_score(y_pred, y_te, weights='quadratic')\n",
        "    prec = (precision_score(y_te,y_pred,pos_label=0))\n",
        "    rec = (recall_score(y_te,y_pred,pos_label=0))\n",
        "    metrics3.append([prec,rec,f1,roc_auc_score(y_te,y_pred), accu, kappa])\n",
        "    dot_data = StringIO()\n",
        "    #tree.export_graphviz(model_dt, out_file=dot_data,  \n",
        "    #                    feature_names=features3, class_names=class_names)\n",
        "    #model3.append(dot_data)\n",
        "   \n",
        "\n",
        "metrics3_df = pd.DataFrame(metrics3,columns =[\"Precision\",\"Recall\",\"F1-Score\",\"ROC-AUC\",\"Accuracy\", \"kappa\"])\n",
        "elapsed_time = (time.time() - start)\n",
        "elapsed_time\n",
        "print(\"Waktu Training random forest:{} detik\".format(elapsed_time))"
      ],
      "execution_count": null,
      "outputs": []
    },
    {
      "cell_type": "code",
      "metadata": {
        "colab": {
          "base_uri": "https://localhost:8080/",
          "height": 378
        },
        "id": "dTOTDAlnCjpZ",
        "outputId": "27431c9f-7e3c-4b58-e495-1270d7b040de"
      },
      "source": [
        "#EVALUASI 10 MODEL HASIL K-FOLD {AKURASI & KAPPA}\n",
        "\n",
        "p = metrics3_df.mean()\n",
        "rataan = pd.DataFrame(p, columns = ['Rataan'])\n",
        "rataan = rataan.transpose()\n",
        "evaluasi = metrics3_df.append(rataan)\n",
        "evaluasi"
      ],
      "execution_count": null,
      "outputs": [
        {
          "output_type": "execute_result",
          "data": {
            "text/html": [
              "<div>\n",
              "<style scoped>\n",
              "    .dataframe tbody tr th:only-of-type {\n",
              "        vertical-align: middle;\n",
              "    }\n",
              "\n",
              "    .dataframe tbody tr th {\n",
              "        vertical-align: top;\n",
              "    }\n",
              "\n",
              "    .dataframe thead th {\n",
              "        text-align: right;\n",
              "    }\n",
              "</style>\n",
              "<table border=\"1\" class=\"dataframe\">\n",
              "  <thead>\n",
              "    <tr style=\"text-align: right;\">\n",
              "      <th></th>\n",
              "      <th>Precision</th>\n",
              "      <th>Recall</th>\n",
              "      <th>F1-Score</th>\n",
              "      <th>ROC-AUC</th>\n",
              "      <th>Accuracy</th>\n",
              "      <th>kappa</th>\n",
              "    </tr>\n",
              "  </thead>\n",
              "  <tbody>\n",
              "    <tr>\n",
              "      <th>0</th>\n",
              "      <td>0.848580</td>\n",
              "      <td>0.640476</td>\n",
              "      <td>0.729986</td>\n",
              "      <td>0.763095</td>\n",
              "      <td>0.763095</td>\n",
              "      <td>0.526190</td>\n",
              "    </tr>\n",
              "    <tr>\n",
              "      <th>1</th>\n",
              "      <td>0.873754</td>\n",
              "      <td>0.626190</td>\n",
              "      <td>0.729542</td>\n",
              "      <td>0.767857</td>\n",
              "      <td>0.767857</td>\n",
              "      <td>0.535714</td>\n",
              "    </tr>\n",
              "    <tr>\n",
              "      <th>2</th>\n",
              "      <td>0.865979</td>\n",
              "      <td>0.600000</td>\n",
              "      <td>0.708861</td>\n",
              "      <td>0.753571</td>\n",
              "      <td>0.753571</td>\n",
              "      <td>0.507143</td>\n",
              "    </tr>\n",
              "    <tr>\n",
              "      <th>3</th>\n",
              "      <td>0.866873</td>\n",
              "      <td>0.666667</td>\n",
              "      <td>0.753701</td>\n",
              "      <td>0.782143</td>\n",
              "      <td>0.782143</td>\n",
              "      <td>0.564286</td>\n",
              "    </tr>\n",
              "    <tr>\n",
              "      <th>4</th>\n",
              "      <td>0.883721</td>\n",
              "      <td>0.633333</td>\n",
              "      <td>0.737864</td>\n",
              "      <td>0.775000</td>\n",
              "      <td>0.775000</td>\n",
              "      <td>0.550000</td>\n",
              "    </tr>\n",
              "    <tr>\n",
              "      <th>5</th>\n",
              "      <td>0.887417</td>\n",
              "      <td>0.638095</td>\n",
              "      <td>0.742382</td>\n",
              "      <td>0.778571</td>\n",
              "      <td>0.778571</td>\n",
              "      <td>0.557143</td>\n",
              "    </tr>\n",
              "    <tr>\n",
              "      <th>6</th>\n",
              "      <td>0.863192</td>\n",
              "      <td>0.630952</td>\n",
              "      <td>0.729023</td>\n",
              "      <td>0.765476</td>\n",
              "      <td>0.765476</td>\n",
              "      <td>0.530952</td>\n",
              "    </tr>\n",
              "    <tr>\n",
              "      <th>7</th>\n",
              "      <td>0.866894</td>\n",
              "      <td>0.604762</td>\n",
              "      <td>0.712482</td>\n",
              "      <td>0.755952</td>\n",
              "      <td>0.755952</td>\n",
              "      <td>0.511905</td>\n",
              "    </tr>\n",
              "    <tr>\n",
              "      <th>8</th>\n",
              "      <td>0.819620</td>\n",
              "      <td>0.616667</td>\n",
              "      <td>0.703804</td>\n",
              "      <td>0.740476</td>\n",
              "      <td>0.740476</td>\n",
              "      <td>0.480952</td>\n",
              "    </tr>\n",
              "    <tr>\n",
              "      <th>9</th>\n",
              "      <td>0.870861</td>\n",
              "      <td>0.626190</td>\n",
              "      <td>0.728532</td>\n",
              "      <td>0.766667</td>\n",
              "      <td>0.766667</td>\n",
              "      <td>0.533333</td>\n",
              "    </tr>\n",
              "    <tr>\n",
              "      <th>Rataan</th>\n",
              "      <td>0.864689</td>\n",
              "      <td>0.628333</td>\n",
              "      <td>0.727618</td>\n",
              "      <td>0.764881</td>\n",
              "      <td>0.764881</td>\n",
              "      <td>0.529762</td>\n",
              "    </tr>\n",
              "  </tbody>\n",
              "</table>\n",
              "</div>"
            ],
            "text/plain": [
              "        Precision    Recall  F1-Score   ROC-AUC  Accuracy     kappa\n",
              "0        0.848580  0.640476  0.729986  0.763095  0.763095  0.526190\n",
              "1        0.873754  0.626190  0.729542  0.767857  0.767857  0.535714\n",
              "2        0.865979  0.600000  0.708861  0.753571  0.753571  0.507143\n",
              "3        0.866873  0.666667  0.753701  0.782143  0.782143  0.564286\n",
              "4        0.883721  0.633333  0.737864  0.775000  0.775000  0.550000\n",
              "5        0.887417  0.638095  0.742382  0.778571  0.778571  0.557143\n",
              "6        0.863192  0.630952  0.729023  0.765476  0.765476  0.530952\n",
              "7        0.866894  0.604762  0.712482  0.755952  0.755952  0.511905\n",
              "8        0.819620  0.616667  0.703804  0.740476  0.740476  0.480952\n",
              "9        0.870861  0.626190  0.728532  0.766667  0.766667  0.533333\n",
              "Rataan   0.864689  0.628333  0.727618  0.764881  0.764881  0.529762"
            ]
          },
          "metadata": {
            "tags": []
          },
          "execution_count": 27
        }
      ]
    },
    {
      "cell_type": "markdown",
      "metadata": {
        "id": "EPFuKFatCmjt"
      },
      "source": [
        "**PERBANDINGAN ATRIBUT PER SKENARIO**"
      ]
    },
    {
      "cell_type": "code",
      "metadata": {
        "colab": {
          "base_uri": "https://localhost:8080/"
        },
        "id": "3GDtpLCAGpYu",
        "outputId": "edb51397-f3bf-4974-a652-364199d2977e"
      },
      "source": [
        "print(dict(zip(skenario_1.columns, optimised_random.feature_importances_)))"
      ],
      "execution_count": null,
      "outputs": [
        {
          "output_type": "stream",
          "text": [
            "{'VH': 0.3879532287538812, 'VV': 0.6120467712461188}\n"
          ],
          "name": "stdout"
        }
      ]
    },
    {
      "cell_type": "code",
      "metadata": {
        "colab": {
          "base_uri": "https://localhost:8080/"
        },
        "id": "gYPzrdEgGuRy",
        "outputId": "07a539a7-310c-4747-bd50-d5032b0129c7"
      },
      "source": [
        "print(dict(zip(skenario_2.columns, optimised_random2.feature_importances_)))"
      ],
      "execution_count": null,
      "outputs": [
        {
          "output_type": "stream",
          "text": [
            "{'VH': 0.3567250734401115, 'VV': 0.5285134536651007, 'VV-VH': 0.1147614728947878}\n"
          ],
          "name": "stdout"
        }
      ]
    },
    {
      "cell_type": "code",
      "metadata": {
        "colab": {
          "base_uri": "https://localhost:8080/"
        },
        "id": "g9g67WtXGw9D",
        "outputId": "cb44741c-8cff-49ef-9db3-2d00388c9165"
      },
      "source": [
        "print(dict(zip(skenario_3.columns, optimised_random3.feature_importances_)))"
      ],
      "execution_count": null,
      "outputs": [
        {
          "output_type": "stream",
          "text": [
            "{'VH': 0.10473237192736616, 'VV': 0.3443253321454686, 'VV-VH': 0.019292176860732552, 'VV/VH': 0.15288431977318587, '(VV+VH)/2': 0.37876579929324683}\n"
          ],
          "name": "stdout"
        }
      ]
    },
    {
      "cell_type": "markdown",
      "metadata": {
        "id": "QCW-6NcFYXBA"
      },
      "source": [
        "**CONFUSION MATRIX PER FOLD**"
      ]
    },
    {
      "cell_type": "code",
      "metadata": {
        "id": "YGCCq4BJnNKf"
      },
      "source": [
        "## Confusion matrix per fold\n",
        "\n",
        "import numpy as np\n",
        "\n",
        "## FUNGSI PLOT CONFUSION MATRIX\n",
        "## Credit to: George Fisher (https://www.kaggle.com/grfiv4/plot-a-confusion-matrix)\n",
        "\n",
        "def plot_confusion_matrix(cm,\n",
        "                          target_names,\n",
        "                          title='Confusion matrix',\n",
        "                          cmap=None,\n",
        "                          normalize=True):\n",
        "    import matplotlib.pyplot as plt\n",
        "    import numpy as np\n",
        "    import itertools\n",
        "\n",
        "    accuracy = np.trace(cm) / float(np.sum(cm))\n",
        "    misclass = 1 - accuracy\n",
        "\n",
        "    if cmap is None:\n",
        "        cmap = plt.get_cmap('Blues')\n",
        "\n",
        "    plt.figure(figsize=(8, 6))\n",
        "    plt.imshow(cm, interpolation='nearest', cmap=cmap)\n",
        "    plt.title(title,fontsize=14)\n",
        "    plt.colorbar()\n",
        "\n",
        "    if target_names is not None:\n",
        "        tick_marks = np.arange(len(target_names))\n",
        "        plt.xticks(tick_marks, target_names, rotation=45)\n",
        "        plt.yticks(tick_marks, target_names)\n",
        "\n",
        "    if normalize:\n",
        "        cm = cm.astype('float') / cm.sum(axis=1)[:, np.newaxis]\n",
        "\n",
        "\n",
        "    thresh = cm.max() / 1.5 if normalize else cm.max() / 2\n",
        "    for i, j in itertools.product(range(cm.shape[0]), range(cm.shape[1])):\n",
        "        if normalize:\n",
        "            plt.text(j, i, \"{:0.4f}\".format(cm[i, j]),\n",
        "                     horizontalalignment=\"center\",\n",
        "                     color=\"white\" if cm[i, j] > thresh else \"black\",fontsize=12)\n",
        "        else:\n",
        "            plt.text(j, i, \"{:,}\".format(cm[i, j]),\n",
        "                     horizontalalignment=\"center\",\n",
        "                     color=\"white\" if cm[i, j] > thresh else \"black\",fontsize=12)\n",
        "\n",
        "\n",
        "    plt.tight_layout()\n",
        "    plt.ylabel('True label',fontsize=12)\n",
        "    plt.xlabel('Predicted label\\naccuracy={:0.4f}; misclass={:0.4f}'.format(accuracy, misclass),fontsize=12)\n",
        "    plt.show()\n",
        "    ##CONFUSION MATRIX"
      ],
      "execution_count": null,
      "outputs": []
    },
    {
      "cell_type": "code",
      "metadata": {
        "colab": {
          "base_uri": "https://localhost:8080/",
          "height": 473
        },
        "id": "i2HMOHVxnOUD",
        "outputId": "ef669b60-082b-401b-fcb4-916b69b03f4a"
      },
      "source": [
        "## visualisasi Confusion matrix per fold\n",
        "#Bawang putih=0, Non Bawang putih=1\n",
        "\n",
        "n=0 #n diisi dengan fold\n",
        "from sklearn.metrics import confusion_matrix\n",
        "cm = confusion_matrix(test[n][1], pred[n])\n",
        "\n",
        "plot_confusion_matrix(cm           = cm,\n",
        "                      normalize    = False,\n",
        "                      target_names = ['0','1'],\n",
        "                      title        = \"Confusion Matrix Tahap Validasi Model\")"
      ],
      "execution_count": null,
      "outputs": [
        {
          "output_type": "display_data",
          "data": {
            "image/png": "[encoded data removed]",
            "text/plain": [
              "<Figure size 576x432 with 2 Axes>"
            ]
          },
          "metadata": {
            "tags": [],
            "needs_background": "light"
          }
        }
      ]
    },
    {
      "cell_type": "markdown",
      "metadata": {
        "id": "ttWZd7-_YMRT"
      },
      "source": [
        "**IMPLEMENTASI KESELURUHAN MODEL(kurang lebih 84000 DATA)**"
      ]
    },
    {
      "cell_type": "code",
      "metadata": {
        "id": "p9qTw2Vt4BgC"
      },
      "source": [
        "## Implementasi model ke keseluruhan dataset\n",
        "\n",
        "#read file total\n",
        "dataset_total = pd.read_csv('22_Nov.csv')\n",
        "\n",
        "dataset_total.columns = ['Longitude', 'Latitude', 'VH', 'VV']\n",
        "datamodel = dataset_total.drop(['Longitude','Latitude'], axis = 1)\n"
      ],
      "execution_count": null,
      "outputs": []
    },
    {
      "cell_type": "code",
      "metadata": {
        "id": "7fIZ3op7c96Z"
      },
      "source": [
        "datamodel"
      ],
      "execution_count": null,
      "outputs": []
    },
    {
      "cell_type": "code",
      "metadata": {
        "id": "oKRid44o_gvA"
      },
      "source": [
        "  model_dt = optimised_random\n",
        "  model_dt.fit(X_tr,y_tr)\n",
        "  y_pred = model_dt.predict(datamodel)"
      ],
      "execution_count": null,
      "outputs": []
    },
    {
      "cell_type": "code",
      "metadata": {
        "id": "QHSxtPAcXqcQ"
      },
      "source": [
        "dataset_total['Class']= y_pred"
      ],
      "execution_count": null,
      "outputs": []
    },
    {
      "cell_type": "code",
      "metadata": {
        "colab": {
          "base_uri": "https://localhost:8080/",
          "height": 419
        },
        "id": "vLTrTw85gKh4",
        "outputId": "1ff51773-b375-4a1f-e5c3-29caaf9fd80d"
      },
      "source": [
        "dataset_total"
      ],
      "execution_count": null,
      "outputs": [
        {
          "output_type": "execute_result",
          "data": {
            "text/html": [
              "<div>\n",
              "<style scoped>\n",
              "    .dataframe tbody tr th:only-of-type {\n",
              "        vertical-align: middle;\n",
              "    }\n",
              "\n",
              "    .dataframe tbody tr th {\n",
              "        vertical-align: top;\n",
              "    }\n",
              "\n",
              "    .dataframe thead th {\n",
              "        text-align: right;\n",
              "    }\n",
              "</style>\n",
              "<table border=\"1\" class=\"dataframe\">\n",
              "  <thead>\n",
              "    <tr style=\"text-align: right;\">\n",
              "      <th></th>\n",
              "      <th>Longitude</th>\n",
              "      <th>Latitude</th>\n",
              "      <th>VH</th>\n",
              "      <th>VV</th>\n",
              "      <th>Class</th>\n",
              "    </tr>\n",
              "  </thead>\n",
              "  <tbody>\n",
              "    <tr>\n",
              "      <th>0</th>\n",
              "      <td>1.777225e+06</td>\n",
              "      <td>9.056082e+06</td>\n",
              "      <td>-17.219891</td>\n",
              "      <td>-7.997727</td>\n",
              "      <td>0.0</td>\n",
              "    </tr>\n",
              "    <tr>\n",
              "      <th>1</th>\n",
              "      <td>1.777235e+06</td>\n",
              "      <td>9.056082e+06</td>\n",
              "      <td>-16.711527</td>\n",
              "      <td>-8.185431</td>\n",
              "      <td>0.0</td>\n",
              "    </tr>\n",
              "    <tr>\n",
              "      <th>2</th>\n",
              "      <td>1.777245e+06</td>\n",
              "      <td>9.056082e+06</td>\n",
              "      <td>-16.408459</td>\n",
              "      <td>-8.642118</td>\n",
              "      <td>1.0</td>\n",
              "    </tr>\n",
              "    <tr>\n",
              "      <th>3</th>\n",
              "      <td>1.777255e+06</td>\n",
              "      <td>9.056082e+06</td>\n",
              "      <td>-15.910982</td>\n",
              "      <td>-8.490516</td>\n",
              "      <td>0.0</td>\n",
              "    </tr>\n",
              "    <tr>\n",
              "      <th>4</th>\n",
              "      <td>1.777265e+06</td>\n",
              "      <td>9.056082e+06</td>\n",
              "      <td>-15.170050</td>\n",
              "      <td>-8.446631</td>\n",
              "      <td>0.0</td>\n",
              "    </tr>\n",
              "    <tr>\n",
              "      <th>...</th>\n",
              "      <td>...</td>\n",
              "      <td>...</td>\n",
              "      <td>...</td>\n",
              "      <td>...</td>\n",
              "      <td>...</td>\n",
              "    </tr>\n",
              "    <tr>\n",
              "      <th>84235</th>\n",
              "      <td>1.780415e+06</td>\n",
              "      <td>9.053492e+06</td>\n",
              "      <td>-15.017966</td>\n",
              "      <td>-10.045405</td>\n",
              "      <td>0.0</td>\n",
              "    </tr>\n",
              "    <tr>\n",
              "      <th>84236</th>\n",
              "      <td>1.780425e+06</td>\n",
              "      <td>9.053492e+06</td>\n",
              "      <td>-15.392566</td>\n",
              "      <td>-9.996421</td>\n",
              "      <td>0.0</td>\n",
              "    </tr>\n",
              "    <tr>\n",
              "      <th>84237</th>\n",
              "      <td>1.780435e+06</td>\n",
              "      <td>9.053492e+06</td>\n",
              "      <td>-15.742068</td>\n",
              "      <td>-9.220573</td>\n",
              "      <td>0.0</td>\n",
              "    </tr>\n",
              "    <tr>\n",
              "      <th>84238</th>\n",
              "      <td>1.780445e+06</td>\n",
              "      <td>9.053492e+06</td>\n",
              "      <td>-15.327689</td>\n",
              "      <td>-7.573978</td>\n",
              "      <td>0.0</td>\n",
              "    </tr>\n",
              "    <tr>\n",
              "      <th>84239</th>\n",
              "      <td>1.780455e+06</td>\n",
              "      <td>9.053492e+06</td>\n",
              "      <td>-15.279454</td>\n",
              "      <td>-6.985248</td>\n",
              "      <td>0.0</td>\n",
              "    </tr>\n",
              "  </tbody>\n",
              "</table>\n",
              "<p>84240 rows × 5 columns</p>\n",
              "</div>"
            ],
            "text/plain": [
              "          Longitude      Latitude         VH         VV  Class\n",
              "0      1.777225e+06  9.056082e+06 -17.219891  -7.997727    0.0\n",
              "1      1.777235e+06  9.056082e+06 -16.711527  -8.185431    0.0\n",
              "2      1.777245e+06  9.056082e+06 -16.408459  -8.642118    1.0\n",
              "3      1.777255e+06  9.056082e+06 -15.910982  -8.490516    0.0\n",
              "4      1.777265e+06  9.056082e+06 -15.170050  -8.446631    0.0\n",
              "...             ...           ...        ...        ...    ...\n",
              "84235  1.780415e+06  9.053492e+06 -15.017966 -10.045405    0.0\n",
              "84236  1.780425e+06  9.053492e+06 -15.392566  -9.996421    0.0\n",
              "84237  1.780435e+06  9.053492e+06 -15.742068  -9.220573    0.0\n",
              "84238  1.780445e+06  9.053492e+06 -15.327689  -7.573978    0.0\n",
              "84239  1.780455e+06  9.053492e+06 -15.279454  -6.985248    0.0\n",
              "\n",
              "[84240 rows x 5 columns]"
            ]
          },
          "metadata": {
            "tags": []
          },
          "execution_count": 126
        }
      ]
    },
    {
      "cell_type": "code",
      "metadata": {
        "id": "UkE0wj0_ZV_m"
      },
      "source": [
        "dataset_total.to_csv(r'hasil_prediksi_22Nov.csv')\n",
        "\n"
      ],
      "execution_count": null,
      "outputs": []
    }
  ]
}